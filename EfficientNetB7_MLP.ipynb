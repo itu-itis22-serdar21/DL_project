{
 "cells": [
  {
   "cell_type": "code",
   "execution_count": 1,
   "metadata": {},
   "outputs": [],
   "source": [
    "import os\n",
    "import re\n",
    "import numpy as np\n",
    "import pandas as pd\n",
    "from PIL import Image\n",
    "from sklearn.preprocessing import LabelEncoder, StandardScaler\n",
    "from sklearn.model_selection import train_test_split\n",
    "from tensorflow.keras import layers, models, optimizers, callbacks\n",
    "from tensorflow.keras.applications import EfficientNetB7\n",
    "import matplotlib.pyplot as plt"
   ]
  },
  {
   "cell_type": "code",
   "execution_count": 2,
   "metadata": {},
   "outputs": [],
   "source": [
    "# 1. Metadata Preprocessing\n",
    "metadata_path = 'train.csv'\n",
    "metadata_df = pd.read_csv(metadata_path)\n",
    "\n",
    "# Function to clean and normalize poster filenames\n",
    "def clean_filename(title):\n",
    "    # Remove unwanted special characters except for - and '.\n",
    "    title = re.sub(r'[^\\w\\s\\-\\'\\.\\!\\&\\(\\)]', '', title) \n",
    "    return title\n",
    "\n",
    "# Generate normalized filenames by combining the title and year\n",
    "metadata_df['Poster_Filename'] = metadata_df['Title'].apply(clean_filename) + '_' + metadata_df['Year'].astype(str) + '.jpg'"
   ]
  },
  {
   "cell_type": "code",
   "execution_count": 3,
   "metadata": {},
   "outputs": [],
   "source": [
    "# 2. Poster Processing\n",
    "poster_folder = 'posters_train'\n",
    "image_size = (300, 300)\n",
    "\n",
    "# Process images\n",
    "X_images = []\n",
    "for filename in metadata_df['Poster_Filename']:\n",
    "    img_path = os.path.join(poster_folder, filename)\n",
    "    if os.path.exists(img_path):\n",
    "        img = Image.open(img_path).convert('RGB') # Open and convert to RGB\n",
    "        img = img.resize(image_size)\n",
    "        img = np.array(img) / 255.0  # Normalize [0,1]\n",
    "        X_images.append(img)\n",
    "    else:\n",
    "        # Append random noise for missing images\n",
    "        X_images.append(np.random.normal(0.5, 0.1, (*image_size, 3)))  # Gürültülü resim\n",
    "\n",
    "X_images = np.array(X_images)"
   ]
  },
  {
   "cell_type": "code",
   "execution_count": 5,
   "metadata": {},
   "outputs": [],
   "source": [
    "# 3. Metadata Processing\n",
    "# Scale numerical features\n",
    "numerical_features = ['Runtime(min)', 'Budget']\n",
    "scaler = StandardScaler()\n",
    "X_numeric = scaler.fit_transform(metadata_df[numerical_features].values)\n",
    "\n",
    "# Encode categorical features using LabelEncoder\n",
    "categorical_features = ['Director', 'Country', 'Genre1', 'Genre2', 'Genre3', 'Actor1', 'Actor2', 'Actor3']\n",
    "encoders = {}\n",
    "X_categorical = []\n",
    "for feature in categorical_features:\n",
    "    le = LabelEncoder()\n",
    "    metadata_df[feature] = le.fit_transform(metadata_df[feature]) # Encode feature\n",
    "    X_categorical.append(metadata_df[feature].values)\n",
    "    encoders[feature] = le\n",
    "\n",
    "X_categorical = np.column_stack(X_categorical)# Combine categorical features into one array\n",
    "\n",
    "# Log-transform target variable (BoxOffice) to reduce skewness\n",
    "Y = np.log1p(metadata_df['BoxOffice'].values)"
   ]
  },
  {
   "cell_type": "code",
   "execution_count": 6,
   "metadata": {},
   "outputs": [],
   "source": [
    "\n",
    "# Split the dataset into training and validation sets\n",
    "X_img_train, X_img_val, X_num_train, X_num_val, X_cat_train, X_cat_val, Y_train, Y_val = train_test_split(\n",
    "    X_images, X_numeric, X_categorical, Y, test_size=0.2, random_state=42)"
   ]
  },
  {
   "cell_type": "code",
   "execution_count": 7,
   "metadata": {},
   "outputs": [],
   "source": [
    "# Model Definition\n",
    "# 1. EfficientNetB7 for Poster Feature Extraction\n",
    "image_input = layers.Input(shape=(300, 300, 3)) # Define input for image data\n",
    "base_model = EfficientNetB7(weights='imagenet', include_top=False, input_shape=(300, 300, 3))\n",
    "base_model.trainable = False # Freeze pre-trained weights\n",
    "\n",
    "x = base_model(image_input, training=False)\n",
    "x = layers.GlobalAveragePooling2D()(x)\n",
    "x = layers.Dropout(0.5)(x)"
   ]
  },
  {
   "cell_type": "code",
   "execution_count": 8,
   "metadata": {},
   "outputs": [],
   "source": [
    "# 2. MLP for Metadata Processing\n",
    "metadata_input = layers.Input(shape=(X_numeric.shape[1] + X_categorical.shape[1],))  # Define metadata input\n",
    "y = layers.Dense(128, activation='relu')(metadata_input)  # Hidden layer with 128 units\n",
    "y = layers.Dropout(0.3)(y)  # Dropout for regularization\n",
    "y = layers.Dense(64, activation='relu')(y)  # Hidden layer with 64 units\n",
    "y = layers.Dropout(0.3)(y)"
   ]
  },
  {
   "cell_type": "code",
   "execution_count": 9,
   "metadata": {},
   "outputs": [],
   "source": [
    "# 3. Combine Poster and Metadata Features\n",
    "combined = layers.concatenate([x, y])  # Concatenate processed features\n",
    "output = layers.Dense(1)(combined)  # Output layer for regression task\n"
   ]
  },
  {
   "cell_type": "code",
   "execution_count": 10,
   "metadata": {},
   "outputs": [],
   "source": [
    "# Compile the model\n",
    "optimizer_adamw = optimizers.AdamW(learning_rate=0.0005)  # Use AdamW optimizer\n",
    "model = models.Model(inputs=[image_input, metadata_input], outputs=output)  # Create model\n",
    "model.compile(optimizer=optimizer_adamw, loss='mean_squared_error', metrics=['mae'])  # Compile with MSE loss\n"
   ]
  },
  {
   "cell_type": "code",
   "execution_count": 11,
   "metadata": {},
   "outputs": [
    {
     "name": "stdout",
     "output_type": "stream",
     "text": [
      "Epoch 1/100\n",
      "\u001b[1m73/73\u001b[0m \u001b[32m━━━━━━━━━━━━━━━━━━━━\u001b[0m\u001b[37m\u001b[0m \u001b[1m147s\u001b[0m 2s/step - loss: 211.6014 - mae: 11.3818 - val_loss: 35.4334 - val_mae: 5.1429\n",
      "Epoch 2/100\n",
      "\u001b[1m73/73\u001b[0m \u001b[32m━━━━━━━━━━━━━━━━━━━━\u001b[0m\u001b[37m\u001b[0m \u001b[1m126s\u001b[0m 2s/step - loss: 57.8377 - mae: 6.1636 - val_loss: 19.7262 - val_mae: 3.8628\n",
      "Epoch 3/100\n",
      "\u001b[1m73/73\u001b[0m \u001b[32m━━━━━━━━━━━━━━━━━━━━\u001b[0m\u001b[37m\u001b[0m \u001b[1m127s\u001b[0m 2s/step - loss: 26.8316 - mae: 4.1386 - val_loss: 14.7844 - val_mae: 3.3952\n",
      "Epoch 4/100\n",
      "\u001b[1m73/73\u001b[0m \u001b[32m━━━━━━━━━━━━━━━━━━━━\u001b[0m\u001b[37m\u001b[0m \u001b[1m126s\u001b[0m 2s/step - loss: 19.8027 - mae: 3.6043 - val_loss: 12.4246 - val_mae: 3.1701\n",
      "Epoch 5/100\n",
      "\u001b[1m73/73\u001b[0m \u001b[32m━━━━━━━━━━━━━━━━━━━━\u001b[0m\u001b[37m\u001b[0m \u001b[1m122s\u001b[0m 2s/step - loss: 13.9206 - mae: 2.9809 - val_loss: 7.0249 - val_mae: 2.2268\n",
      "Epoch 6/100\n",
      "\u001b[1m73/73\u001b[0m \u001b[32m━━━━━━━━━━━━━━━━━━━━\u001b[0m\u001b[37m\u001b[0m \u001b[1m123s\u001b[0m 2s/step - loss: 9.3976 - mae: 2.4232 - val_loss: 7.6906 - val_mae: 2.4690\n",
      "Epoch 7/100\n",
      "\u001b[1m73/73\u001b[0m \u001b[32m━━━━━━━━━━━━━━━━━━━━\u001b[0m\u001b[37m\u001b[0m \u001b[1m127s\u001b[0m 2s/step - loss: 9.3242 - mae: 2.4541 - val_loss: 5.9808 - val_mae: 2.0778\n",
      "Epoch 8/100\n",
      "\u001b[1m73/73\u001b[0m \u001b[32m━━━━━━━━━━━━━━━━━━━━\u001b[0m\u001b[37m\u001b[0m \u001b[1m121s\u001b[0m 2s/step - loss: 8.3726 - mae: 2.2607 - val_loss: 5.4409 - val_mae: 1.9348\n",
      "Epoch 9/100\n",
      "\u001b[1m73/73\u001b[0m \u001b[32m━━━━━━━━━━━━━━━━━━━━\u001b[0m\u001b[37m\u001b[0m \u001b[1m124s\u001b[0m 2s/step - loss: 7.9449 - mae: 2.1974 - val_loss: 5.2745 - val_mae: 1.8793\n",
      "Epoch 10/100\n",
      "\u001b[1m73/73\u001b[0m \u001b[32m━━━━━━━━━━━━━━━━━━━━\u001b[0m\u001b[37m\u001b[0m \u001b[1m627s\u001b[0m 9s/step - loss: 7.2785 - mae: 2.1168 - val_loss: 5.1057 - val_mae: 1.8303\n",
      "Epoch 11/100\n",
      "\u001b[1m73/73\u001b[0m \u001b[32m━━━━━━━━━━━━━━━━━━━━\u001b[0m\u001b[37m\u001b[0m \u001b[1m118s\u001b[0m 2s/step - loss: 7.2208 - mae: 2.0672 - val_loss: 4.8463 - val_mae: 1.6105\n",
      "Epoch 12/100\n",
      "\u001b[1m73/73\u001b[0m \u001b[32m━━━━━━━━━━━━━━━━━━━━\u001b[0m\u001b[37m\u001b[0m \u001b[1m121s\u001b[0m 2s/step - loss: 6.4184 - mae: 1.9686 - val_loss: 4.9192 - val_mae: 1.7308\n",
      "Epoch 13/100\n",
      "\u001b[1m73/73\u001b[0m \u001b[32m━━━━━━━━━━━━━━━━━━━━\u001b[0m\u001b[37m\u001b[0m \u001b[1m120s\u001b[0m 2s/step - loss: 6.6575 - mae: 1.9865 - val_loss: 4.7462 - val_mae: 1.5926\n",
      "Epoch 14/100\n",
      "\u001b[1m73/73\u001b[0m \u001b[32m━━━━━━━━━━━━━━━━━━━━\u001b[0m\u001b[37m\u001b[0m \u001b[1m120s\u001b[0m 2s/step - loss: 6.5925 - mae: 1.9820 - val_loss: 4.7415 - val_mae: 1.5445\n",
      "Epoch 15/100\n",
      "\u001b[1m73/73\u001b[0m \u001b[32m━━━━━━━━━━━━━━━━━━━━\u001b[0m\u001b[37m\u001b[0m \u001b[1m119s\u001b[0m 2s/step - loss: 6.2259 - mae: 1.9459 - val_loss: 4.6794 - val_mae: 1.5807\n",
      "Epoch 16/100\n",
      "\u001b[1m73/73\u001b[0m \u001b[32m━━━━━━━━━━━━━━━━━━━━\u001b[0m\u001b[37m\u001b[0m \u001b[1m119s\u001b[0m 2s/step - loss: 6.3554 - mae: 1.9549 - val_loss: 4.8659 - val_mae: 1.4840\n",
      "Epoch 17/100\n",
      "\u001b[1m73/73\u001b[0m \u001b[32m━━━━━━━━━━━━━━━━━━━━\u001b[0m\u001b[37m\u001b[0m \u001b[1m120s\u001b[0m 2s/step - loss: 5.6718 - mae: 1.8286 - val_loss: 4.7019 - val_mae: 1.5405\n",
      "Epoch 18/100\n",
      "\u001b[1m73/73\u001b[0m \u001b[32m━━━━━━━━━━━━━━━━━━━━\u001b[0m\u001b[37m\u001b[0m \u001b[1m120s\u001b[0m 2s/step - loss: 6.7839 - mae: 2.0320 - val_loss: 4.7089 - val_mae: 1.5825\n",
      "Epoch 19/100\n",
      "\u001b[1m73/73\u001b[0m \u001b[32m━━━━━━━━━━━━━━━━━━━━\u001b[0m\u001b[37m\u001b[0m \u001b[1m120s\u001b[0m 2s/step - loss: 6.1540 - mae: 1.8958 - val_loss: 4.8394 - val_mae: 1.4729\n",
      "Epoch 20/100\n",
      "\u001b[1m73/73\u001b[0m \u001b[32m━━━━━━━━━━━━━━━━━━━━\u001b[0m\u001b[37m\u001b[0m \u001b[1m121s\u001b[0m 2s/step - loss: 5.9576 - mae: 1.8100 - val_loss: 4.6916 - val_mae: 1.5222\n"
     ]
    }
   ],
   "source": [
    "# Model Training\n",
    "callback = callbacks.EarlyStopping(monitor='val_loss', patience=5)  # Early stopping to prevent overfitting\n",
    "history = model.fit([X_img_train, np.hstack([X_num_train, X_cat_train])], Y_train,\n",
    "                    validation_data=([X_img_val, np.hstack([X_num_val, X_cat_val])], Y_val),\n",
    "                    epochs=100, batch_size=16, callbacks=[callback])"
   ]
  },
  {
   "cell_type": "code",
   "execution_count": 12,
   "metadata": {},
   "outputs": [
    {
     "data": {
      "image/png": "[encoded data removed]",
      "text/plain": [
       "<Figure size 640x480 with 1 Axes>"
      ]
     },
     "metadata": {},
     "output_type": "display_data"
    },
    {
     "name": "stdout",
     "output_type": "stream",
     "text": [
      "Model eğitimi ve analizi tamamlandı.\n"
     ]
    }
   ],
   "source": [
    "# Performance Analysis\n",
    "plt.figure()\n",
    "plt.plot(history.history['mae'], label='MAE (Training)')\n",
    "plt.plot(history.history['val_mae'], label='MAE (Validation)')\n",
    "plt.xlabel('Epochs')\n",
    "plt.ylabel('Mean Absolute Error')\n",
    "plt.legend()\n",
    "plt.show()"
   ]
  },
  {
   "cell_type": "code",
   "execution_count": 13,
   "metadata": {},
   "outputs": [],
   "source": [
    "# Test Data Preprocessing\n",
    "test_metadata_path = 'test.csv'\n",
    "test_metadata_df = pd.read_csv(test_metadata_path)\n",
    "\n",
    "# Normalize poster filenames for test data\n",
    "def clean_filename(title):\n",
    "    title = re.sub(r'[^\\w\\s\\-\\'\\.\\!\\&\\(\\)]', '', title)  # Adjusted special character removal\n",
    "    return title\n",
    "\n",
    "test_metadata_df['Poster_Filename'] = test_metadata_df['Title'].apply(clean_filename) + '_' + test_metadata_df['Year'].astype(str) + '.jpg'"
   ]
  },
  {
   "cell_type": "code",
   "execution_count": 19,
   "metadata": {},
   "outputs": [],
   "source": [
    "# Process test images\n",
    "poster_folder2 = 'posters_test'\n",
    "image_size = (300, 300)\n",
    "X_test_images = []\n",
    "for filename in test_metadata_df['Poster_Filename']:\n",
    "    img_path = os.path.join(poster_folder2, filename)\n",
    "    if os.path.exists(img_path):\n",
    "        img = Image.open(img_path).convert('RGB') # Open and convert to RGB\n",
    "        img = img.resize(image_size) # Resize the image\n",
    "        img = np.array(img) / 255.0  # Normalize [0,1]\n",
    "        X_test_images.append(img)\n",
    "    else:\n",
    "        print(filename)\n",
    "        X_test_images.append(np.random.normal(0.5, 0.1, (*image_size, 3)))  # Gürültülü resim\n",
    "\n",
    "X_test_images = np.array(X_test_images)"
   ]
  },
  {
   "cell_type": "code",
   "execution_count": 21,
   "metadata": {},
   "outputs": [],
   "source": [
    "# Process numerical and categorical test metadata\n",
    "\n",
    "X_test_numeric = scaler.fit_transform(test_metadata_df[numerical_features].values)\n"
   ]
  },
  {
   "cell_type": "code",
   "execution_count": 22,
   "metadata": {},
   "outputs": [],
   "source": [
    "X_test_categorical = []\n",
    "for feature in categorical_features:\n",
    "    # Use previously saved encoder\n",
    "    encoder = encoders[feature]\n",
    "    test_labels = test_metadata_df[feature]\n",
    "\n",
    "    # Handle unseen labels by assigning them to an \"Unknown\" category\n",
    "    test_labels = test_labels.apply(lambda x: x if x in encoder.classes_ else 'Unknown')\n",
    "\n",
    "    \n",
    "    if 'Unknown' not in encoder.classes_:\n",
    "        encoder.classes_ = np.append(encoder.classes_, 'Unknown')\n",
    "\n",
    "    # Encode işlemi\n",
    "    X_test_categorical.append(encoder.transform(test_labels))\n",
    "X_test_categorical = np.column_stack(X_test_categorical)\n"
   ]
  },
  {
   "cell_type": "code",
   "execution_count": 23,
   "metadata": {},
   "outputs": [],
   "source": [
    "# Log-transform BoxOffice values for evaluation\n",
    "Y_test_actual = np.log1p(test_metadata_df['BoxOffice'].values)"
   ]
  },
  {
   "cell_type": "code",
   "execution_count": 24,
   "metadata": {},
   "outputs": [
    {
     "name": "stdout",
     "output_type": "stream",
     "text": [
      "\u001b[1m5/5\u001b[0m \u001b[32m━━━━━━━━━━━━━━━━━━━━\u001b[0m\u001b[37m\u001b[0m \u001b[1m19s\u001b[0m 3s/step\n",
      "Test Set MSE: 3.8371\n",
      "Test Set MAE: 1.5505\n"
     ]
    }
   ],
   "source": [
    "# Generate predictions on test set\n",
    "Y_test_pred = model.predict([X_test_images, np.hstack([X_test_numeric, X_test_categorical])])\n",
    "\n",
    "# Evaluate performance using MSE and MAE\n",
    "from sklearn.metrics import mean_squared_error, mean_absolute_error\n",
    "\n",
    "mse = mean_squared_error(Y_test_actual, Y_test_pred)\n",
    "mae = mean_absolute_error(Y_test_actual, Y_test_pred)\n",
    "\n",
    "print(f\"Test Set MSE: {mse:.4f}\")\n",
    "print(f\"Test Set MAE: {mae:.4f}\")\n"
   ]
  }
 ],
 "metadata": {
  "kernelspec": {
   "display_name": "Python 3",
   "language": "python",
   "name": "python3"
  },
  "language_info": {
   "codemirror_mode": {
    "name": "ipython",
    "version": 3
   },
   "file_extension": ".py",
   "mimetype": "text/x-python",
   "name": "python",
   "nbconvert_exporter": "python",
   "pygments_lexer": "ipython3",
   "version": "3.12.3"
  }
 },
 "nbformat": 4,
 "nbformat_minor": 2
}
