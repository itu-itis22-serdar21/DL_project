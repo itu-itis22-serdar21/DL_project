{
 "cells": [
  {
   "cell_type": "code",
   "execution_count": 1,
   "id": "e05dc60b",
   "metadata": {},
   "outputs": [
    {
     "name": "stderr",
     "output_type": "stream",
     "text": [
      "C:\\Users\\Tevhidenur\\anaconda3n\\envs\\myenv\\Lib\\site-packages\\tqdm\\auto.py:21: TqdmWarning: IProgress not found. Please update jupyter and ipywidgets. See https://ipywidgets.readthedocs.io/en/stable/user_install.html\n",
      "  from .autonotebook import tqdm as notebook_tqdm\n"
     ]
    }
   ],
   "source": [
    "import os\n",
    "import re\n",
    "import numpy as np\n",
    "import pandas as pd\n",
    "from PIL import Image\n",
    "from sklearn.preprocessing import LabelEncoder\n",
    "from sklearn.model_selection import train_test_split\n",
    "from tensorflow.keras import layers, models, optimizers, callbacks\n",
    "from tensorflow.keras.applications import EfficientNetB0\n",
    "import shap\n",
    "import matplotlib.pyplot as plt"
   ]
  },
  {
   "cell_type": "code",
   "execution_count": 2,
   "id": "10fcf1ec",
   "metadata": {},
   "outputs": [],
   "source": [
    "# 1. Metadata Ön İşleme\n",
    "metadata_path = 'cleaned_movies4.csv'\n",
    "metadata_df = pd.read_csv(metadata_path)\n",
    "\n",
    "# Poster isimlerini normalize etme\n",
    "def clean_filename(title):\n",
    "    title = re.sub(r'[^\\w\\s\\-\\'\\.\\!\\&\\(\\)]', '', title)  # Özel karakterleri kaldır (- ve ' hariç)\n",
    "    return title\n",
    "\n",
    "metadata_df['Poster_Filename'] = metadata_df['Title'].apply(clean_filename) + '_' + metadata_df['Year'].astype(str) + '.jpg'"
   ]
  },
  {
   "cell_type": "code",
   "execution_count": 3,
   "id": "37dbe2ad",
   "metadata": {},
   "outputs": [],
   "source": [
    "# 2. Poster İşleme\n",
    "poster_folder = 'posters'\n",
    "image_size = (224, 224)\n",
    "\n",
    "# Görüntüleri işleme ve normalize etme\n",
    "X_images = []\n",
    "for filename in metadata_df['Poster_Filename']:\n",
    "    img_path = os.path.join(poster_folder, filename)\n",
    "    if os.path.exists(img_path):\n",
    "        img = Image.open(img_path).convert('RGB')\n",
    "        img = img.resize(image_size)\n",
    "        img = np.array(img) / 255.0  # Normalize [0,1]\n",
    "        X_images.append(img)\n",
    "    else:\n",
    "        print(filename)\n",
    "        X_images.append(np.zeros((*image_size, 3)))  # Eksik posterler için boş resim\n",
    "\n",
    "X_images = np.array(X_images)"
   ]
  },
  {
   "cell_type": "code",
   "execution_count": 4,
   "id": "9614d4f5",
   "metadata": {},
   "outputs": [],
   "source": [
    "# 3. Metadata İşleme\n",
    "# Sayısal sütunlar\n",
    "numerical_features = ['Runtime(min)', 'Budget']\n",
    "X_numeric = metadata_df[numerical_features].values\n",
    "\n",
    "# Kategorik sütunları encode etme\n",
    "categorical_features = ['Director', 'Country', 'Genre1', 'Genre2', 'Genre3', 'Actor1', 'Actor2', 'Actor3']\n",
    "encoders = {}\n",
    "X_categorical = []\n",
    "for feature in categorical_features:\n",
    "    le = LabelEncoder()\n",
    "    metadata_df[feature] = le.fit_transform(metadata_df[feature])\n",
    "    X_categorical.append(metadata_df[feature].values)\n",
    "    encoders[feature] = le\n",
    "\n",
    "X_categorical = np.column_stack(X_categorical)\n",
    "\n",
    "# Bağımlı değişken (Y)\n",
    "Y = metadata_df['BoxOffice'].values"
   ]
  },
  {
   "cell_type": "code",
   "execution_count": 5,
   "id": "632929a3",
   "metadata": {},
   "outputs": [],
   "source": [
    "# Eğitim ve Test Verisi Ayırma\n",
    "X_img_train, X_img_test, X_num_train, X_num_test, X_cat_train, X_cat_test, Y_train, Y_test = train_test_split(\n",
    "    X_images, X_numeric, X_categorical, Y, test_size=0.2, random_state=42)"
   ]
  },
  {
   "cell_type": "code",
   "execution_count": 6,
   "id": "9ed8708d",
   "metadata": {},
   "outputs": [],
   "source": [
    "# Modelleme Aşaması\n",
    "# 1. EfficientNetB0 Modeli\n",
    "image_input = layers.Input(shape=(224, 224, 3))\n",
    "base_model = EfficientNetB0(weights='imagenet', include_top=False, input_shape=(224, 224, 3))\n",
    "base_model.trainable = False\n",
    "x = base_model(image_input, training=False)\n",
    "x = layers.GlobalAveragePooling2D()(x)"
   ]
  },
  {
   "cell_type": "code",
   "execution_count": 7,
   "id": "c6543fbf",
   "metadata": {},
   "outputs": [],
   "source": [
    "# 2. Metadata için MLP\n",
    "metadata_input = layers.Input(shape=(X_numeric.shape[1] + X_categorical.shape[1],))\n",
    "y = layers.Dense(128, activation='relu')(metadata_input)\n",
    "y = layers.Dense(64, activation='relu')(y)"
   ]
  },
  {
   "cell_type": "code",
   "execution_count": 8,
   "id": "4e783ef0",
   "metadata": {},
   "outputs": [],
   "source": [
    "# 3. Birleştirme ve Çıkış Katmanı\n",
    "combined = layers.concatenate([x, y])\n",
    "output = layers.Dense(1)(combined)"
   ]
  },
  {
   "cell_type": "code",
   "execution_count": 9,
   "id": "d0792bad",
   "metadata": {},
   "outputs": [],
   "source": [
    "# Modelin Tanımlanması\n",
    "model = models.Model(inputs=[image_input, metadata_input], outputs=output)\n",
    "optimizer = optimizers.Adam(learning_rate=0.001)\n",
    "model.compile(optimizer=optimizer, loss='mean_squared_error', metrics=['mae'])"
   ]
  },
  {
   "cell_type": "code",
   "execution_count": 10,
   "id": "42f9a103",
   "metadata": {},
   "outputs": [
    {
     "name": "stdout",
     "output_type": "stream",
     "text": [
      "Epoch 1/50\n",
      "\u001b[1m37/37\u001b[0m \u001b[32m━━━━━━━━━━━━━━━━━━━━\u001b[0m\u001b[37m\u001b[0m \u001b[1m40s\u001b[0m 846ms/step - loss: 19336108122832896.0000 - mae: 79176920.0000 - val_loss: 6873800951988224.0000 - val_mae: 50556652.0000\n",
      "Epoch 2/50\n",
      "\u001b[1m37/37\u001b[0m \u001b[32m━━━━━━━━━━━━━━━━━━━━\u001b[0m\u001b[37m\u001b[0m \u001b[1m30s\u001b[0m 821ms/step - loss: 7318253294583808.0000 - mae: 48730296.0000 - val_loss: 3243687882522624.0000 - val_mae: 37853768.0000\n",
      "Epoch 3/50\n",
      "\u001b[1m37/37\u001b[0m \u001b[32m━━━━━━━━━━━━━━━━━━━━\u001b[0m\u001b[37m\u001b[0m \u001b[1m31s\u001b[0m 829ms/step - loss: 5872144785342464.0000 - mae: 48535932.0000 - val_loss: 3341669776752640.0000 - val_mae: 38547772.0000\n",
      "Epoch 4/50\n",
      "\u001b[1m37/37\u001b[0m \u001b[32m━━━━━━━━━━━━━━━━━━━━\u001b[0m\u001b[37m\u001b[0m \u001b[1m35s\u001b[0m 938ms/step - loss: 5222436492541952.0000 - mae: 46068640.0000 - val_loss: 3336010083598336.0000 - val_mae: 38511248.0000\n",
      "Epoch 5/50\n",
      "\u001b[1m37/37\u001b[0m \u001b[32m━━━━━━━━━━━━━━━━━━━━\u001b[0m\u001b[37m\u001b[0m \u001b[1m34s\u001b[0m 907ms/step - loss: 5904802106048512.0000 - mae: 48654656.0000 - val_loss: 3191022188232704.0000 - val_mae: 37423344.0000\n",
      "Epoch 6/50\n",
      "\u001b[1m37/37\u001b[0m \u001b[32m━━━━━━━━━━━━━━━━━━━━\u001b[0m\u001b[37m\u001b[0m \u001b[1m33s\u001b[0m 885ms/step - loss: 5042363009335296.0000 - mae: 44265168.0000 - val_loss: 3431648536297472.0000 - val_mae: 39090696.0000\n",
      "Epoch 7/50\n",
      "\u001b[1m37/37\u001b[0m \u001b[32m━━━━━━━━━━━━━━━━━━━━\u001b[0m\u001b[37m\u001b[0m \u001b[1m33s\u001b[0m 896ms/step - loss: 5606628296491008.0000 - mae: 47374460.0000 - val_loss: 3413175345086464.0000 - val_mae: 38984568.0000\n",
      "Epoch 8/50\n",
      "\u001b[1m37/37\u001b[0m \u001b[32m━━━━━━━━━━━━━━━━━━━━\u001b[0m\u001b[37m\u001b[0m \u001b[1m33s\u001b[0m 883ms/step - loss: 5879705001525248.0000 - mae: 48449652.0000 - val_loss: 3234936618221568.0000 - val_mae: 37783988.0000\n",
      "Epoch 9/50\n",
      "\u001b[1m37/37\u001b[0m \u001b[32m━━━━━━━━━━━━━━━━━━━━\u001b[0m\u001b[37m\u001b[0m \u001b[1m31s\u001b[0m 838ms/step - loss: 5571541098037248.0000 - mae: 46238456.0000 - val_loss: 3125305698942976.0000 - val_mae: 36889364.0000\n",
      "Epoch 10/50\n",
      "\u001b[1m37/37\u001b[0m \u001b[32m━━━━━━━━━━━━━━━━━━━━\u001b[0m\u001b[37m\u001b[0m \u001b[1m31s\u001b[0m 852ms/step - loss: 5325336392761344.0000 - mae: 46401896.0000 - val_loss: 3315832058806272.0000 - val_mae: 38378004.0000\n",
      "Epoch 11/50\n",
      "\u001b[1m37/37\u001b[0m \u001b[32m━━━━━━━━━━━━━━━━━━━━\u001b[0m\u001b[37m\u001b[0m \u001b[1m31s\u001b[0m 853ms/step - loss: 5117038531969024.0000 - mae: 45853656.0000 - val_loss: 3208476935323648.0000 - val_mae: 37566416.0000\n",
      "Epoch 12/50\n",
      "\u001b[1m37/37\u001b[0m \u001b[32m━━━━━━━━━━━━━━━━━━━━\u001b[0m\u001b[37m\u001b[0m \u001b[1m29s\u001b[0m 794ms/step - loss: 5280297755082752.0000 - mae: 45869508.0000 - val_loss: 3360059216101376.0000 - val_mae: 38664204.0000\n",
      "Epoch 13/50\n",
      "\u001b[1m37/37\u001b[0m \u001b[32m━━━━━━━━━━━━━━━━━━━━\u001b[0m\u001b[37m\u001b[0m \u001b[1m32s\u001b[0m 869ms/step - loss: 5735002721484800.0000 - mae: 48360228.0000 - val_loss: 3096455598309376.0000 - val_mae: 36636884.0000\n",
      "Epoch 14/50\n",
      "\u001b[1m37/37\u001b[0m \u001b[32m━━━━━━━━━━━━━━━━━━━━\u001b[0m\u001b[37m\u001b[0m \u001b[1m33s\u001b[0m 891ms/step - loss: 5459095096131584.0000 - mae: 46463288.0000 - val_loss: 3298056799780864.0000 - val_mae: 38256340.0000\n",
      "Epoch 15/50\n",
      "\u001b[1m37/37\u001b[0m \u001b[32m━━━━━━━━━━━━━━━━━━━━\u001b[0m\u001b[37m\u001b[0m \u001b[1m30s\u001b[0m 829ms/step - loss: 5639482111950848.0000 - mae: 47488332.0000 - val_loss: 3169138792988672.0000 - val_mae: 37250668.0000\n",
      "Epoch 16/50\n",
      "\u001b[1m37/37\u001b[0m \u001b[32m━━━━━━━━━━━━━━━━━━━━\u001b[0m\u001b[37m\u001b[0m \u001b[1m33s\u001b[0m 905ms/step - loss: 5711098007257088.0000 - mae: 47274768.0000 - val_loss: 3289938237849600.0000 - val_mae: 38199312.0000\n",
      "Epoch 17/50\n",
      "\u001b[1m37/37\u001b[0m \u001b[32m━━━━━━━━━━━━━━━━━━━━\u001b[0m\u001b[37m\u001b[0m \u001b[1m34s\u001b[0m 910ms/step - loss: 4888023359553536.0000 - mae: 44738688.0000 - val_loss: 3370489812615168.0000 - val_mae: 38728704.0000\n",
      "Epoch 18/50\n",
      "\u001b[1m37/37\u001b[0m \u001b[32m━━━━━━━━━━━━━━━━━━━━\u001b[0m\u001b[37m\u001b[0m \u001b[1m33s\u001b[0m 881ms/step - loss: 5015689651814400.0000 - mae: 44834056.0000 - val_loss: 3353494358589440.0000 - val_mae: 38623160.0000\n"
     ]
    }
   ],
   "source": [
    "# Model Eğitimi\n",
    "callback = callbacks.EarlyStopping(monitor='val_loss', patience=5)\n",
    "history = model.fit([X_img_train, np.hstack([X_num_train, X_cat_train])], Y_train,\n",
    "                    validation_data=([X_img_test, np.hstack([X_num_test, X_cat_test])], Y_test),\n",
    "                    epochs=50, batch_size=32, callbacks=[callback])"
   ]
  },
  {
   "cell_type": "code",
   "execution_count": 11,
   "id": "2d26eae8",
   "metadata": {},
   "outputs": [
    {
     "data": {
      "image/png": "[encoded data removed]",
      "text/plain": [
       "<Figure size 640x480 with 1 Axes>"
      ]
     },
     "metadata": {},
     "output_type": "display_data"
    }
   ],
   "source": [
    "# Performans Analizi\n",
    "plt.figure()\n",
    "plt.plot(history.history['mae'], label='MAE (Training)')\n",
    "plt.plot(history.history['val_mae'], label='MAE (Validation)')\n",
    "plt.xlabel('Epochs')\n",
    "plt.ylabel('Mean Absolute Error')\n",
    "plt.legend()\n",
    "plt.show()"
   ]
  },
  {
   "cell_type": "code",
   "execution_count": null,
   "id": "1b5503a1",
   "metadata": {},
   "outputs": [],
   "source": [
    "# SHAP Analizi\n",
    "explainer = shap.Explainer(model, [X_img_test, np.hstack([X_num_test, X_cat_test])])\n",
    "shap_values = explainer([X_img_test, np.hstack([X_num_test, X_cat_test])])\n",
    "shap.summary_plot(shap_values, features=np.hstack([X_num_test, X_cat_test]))\n",
    "\n",
    "print(\"Model eğitimi ve analizi tamamlandı.\")"
   ]
  }
 ],
 "metadata": {
  "kernelspec": {
   "display_name": "Python (myenv)",
   "language": "python",
   "name": "myenv"
  },
  "language_info": {
   "codemirror_mode": {
    "name": "ipython",
    "version": 3
   },
   "file_extension": ".py",
   "mimetype": "text/x-python",
   "name": "python",
   "nbconvert_exporter": "python",
   "pygments_lexer": "ipython3",
   "version": "3.11.11"
  }
 },
 "nbformat": 4,
 "nbformat_minor": 5
}
