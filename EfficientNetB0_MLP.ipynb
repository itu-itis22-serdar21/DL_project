{
  "cells": [
    {
      "cell_type": "code",
      "execution_count": null,
      "id": "e05dc60b",
      "metadata": {
        "id": "e05dc60b"
      },
      "outputs": [],
      "source": [
        "import os\n",
        "import re\n",
        "import numpy as np\n",
        "import pandas as pd\n",
        "from PIL import Image\n",
        "from sklearn.preprocessing import LabelEncoder\n",
        "from sklearn.model_selection import train_test_split\n",
        "from tensorflow.keras import layers, models, optimizers, callbacks\n",
        "from tensorflow.keras.applications import EfficientNetB0\n",
        "from sklearn.preprocessing import LabelEncoder, StandardScaler"
      ]
    },
    {
      "cell_type": "code",
      "execution_count": null,
      "id": "gSEcp_7-oCJN",
      "metadata": {
        "colab": {
          "base_uri": "https://localhost:8080/"
        },
        "id": "gSEcp_7-oCJN",
        "outputId": "96aa78c1-abc4-411f-898a-6898bfa941cc"
      },
      "outputs": [
        {
          "name": "stdout",
          "output_type": "stream",
          "text": [
            "Mounted at /content/drive\n"
          ]
        }
      ],
      "source": [
        "from google.colab import drive\n",
        "drive.mount('/content/drive')"
      ]
    },
    {
      "cell_type": "code",
      "execution_count": null,
      "id": "10fcf1ec",
      "metadata": {
        "id": "10fcf1ec"
      },
      "outputs": [],
      "source": [
        "# 1. Metadata Preprocessing\n",
        "metadata_path = 'train.csv'\n",
        "metadata_df = pd.read_csv(metadata_path)\n",
        "\n",
        "# Function to clean and normalize poster filenames\n",
        "def clean_filename(title):\n",
        "    # Remove unwanted special characters except for - and '.\n",
        "    title = re.sub(r'[^\\w\\s\\-\\'\\.\\!\\&\\(\\)]', '', title) \n",
        "    return title\n",
        "\n",
        "# Generate normalized filenames by combining the title and year\n",
        "metadata_df['Poster_Filename'] = metadata_df['Title'].apply(clean_filename) + '_' + metadata_df['Year'].astype(str) + '.jpg'\n",
        "\n"
      ]
    },
    {
      "cell_type": "code",
      "execution_count": null,
      "id": "37dbe2ad",
      "metadata": {
        "id": "37dbe2ad"
      },
      "outputs": [],
      "source": [
        "# 2. Poster Preprocessing\n",
        "poster_folder = '/content/drive/MyDrive/posters'\n",
        "image_size = (224, 224) # Resize all images to 224x224\n",
        "\n",
        "# Process and normalize poster images\n",
        "X_images = []\n",
        "for filename in metadata_df['Poster_Filename']:\n",
        "    img_path = os.path.join(poster_folder, filename) # Construct image path\n",
        "    if os.path.exists(img_path):\n",
        "        img = Image.open(img_path).convert('RGB') # Open and convert image to RGB\n",
        "        img = img.resize(image_size)\n",
        "        img = np.array(img) / 255.0  # Normalize pixel values to [0, 1]\n",
        "        X_images.append(img)\n",
        "    else:\n",
        "        print(filename)\n",
        "        # Replace missing images with random noise\n",
        "        X_images.append(np.random.normal(0.5, 0.1, (*image_size, 3)))  \n",
        "\n",
        "X_images = np.array(X_images)  # Convert list to NumPy array"
      ]
    },
    {
      "cell_type": "code",
      "execution_count": null,
      "id": "9614d4f5",
      "metadata": {
        "id": "9614d4f5"
      },
      "outputs": [],
      "source": [
        "# 3. Metadata Feature Preprocessing\n",
        "# Normalize numerical features\n",
        "numerical_features = ['Runtime(min)', 'Budget']\n",
        "\n",
        "# Standardize features by removing the mean and scaling to unit variance\n",
        "scaler = StandardScaler() \n",
        "X_numeric = scaler.fit_transform(metadata_df[numerical_features].values)\n",
        "\n",
        "# Encode categorical features\n",
        "categorical_features = ['Director', 'Country', 'Genre1', 'Genre2', 'Genre3', 'Actor1', 'Actor2', 'Actor3']\n",
        "encoders = {}  # Dictionary to store encoders for each categorical feature\n",
        "X_categorical = []\n",
        "for feature in categorical_features:\n",
        "    le = LabelEncoder()  # Initialize label encoder\n",
        "    metadata_df[feature] = le.fit_transform(metadata_df[feature])  # Transform categorical data to numerical\n",
        "    X_categorical.append(metadata_df[feature].values)   # Store transformed feature\n",
        "    encoders[feature] = le\n",
        "\n",
        "# Combine all categorical features into a single array\n",
        "X_categorical = np.column_stack(X_categorical)\n",
        "\n",
        "# Target variable (log-transformed BoxOffice values)\n",
        "Y = np.log1p(metadata_df['BoxOffice'].values)"
      ]
    },
    {
      "cell_type": "code",
      "execution_count": null,
      "id": "632929a3",
      "metadata": {
        "id": "632929a3"
      },
      "outputs": [],
      "source": [
        "\n",
        "# Split data into training and validation sets\n",
        "X_img_train, X_img_val, X_num_train, X_num_val, X_cat_train, X_cat_val, Y_train, Y_val = train_test_split(\n",
        "    X_images, X_numeric, X_categorical, Y, test_size=0.2, random_state=42)"
      ]
    },
    {
      "cell_type": "code",
      "execution_count": null,
      "id": "9ed8708d",
      "metadata": {
        "colab": {
          "base_uri": "https://localhost:8080/"
        },
        "id": "9ed8708d",
        "outputId": "3bb7e846-954c-4346-e942-d1db8f729787"
      },
      "outputs": [
        {
          "name": "stdout",
          "output_type": "stream",
          "text": [
            "Downloading data from https://storage.googleapis.com/keras-applications/efficientnetb0_notop.h5\n",
            "\u001b[1m16705208/16705208\u001b[0m \u001b[32m━━━━━━━━━━━━━━━━━━━━\u001b[0m\u001b[37m\u001b[0m \u001b[1m0s\u001b[0m 0us/step\n"
          ]
        }
      ],
      "source": [
        "# Model Definition\n",
        "# Define an EfficientNetB0 model for image feature extraction\n",
        "image_input = layers.Input(shape=(224, 224, 3))\n",
        "base_model = EfficientNetB0(weights='imagenet', include_top=False, input_shape=(224, 224, 3))\n",
        "base_model.trainable = False  # Freeze base model weights\n",
        "x = base_model(image_input, training=False)\n",
        "x = layers.GlobalAveragePooling2D()(x)"
      ]
    },
    {
      "cell_type": "code",
      "execution_count": null,
      "id": "c6543fbf",
      "metadata": {
        "id": "c6543fbf"
      },
      "outputs": [],
      "source": [
        "# Define an MLP for metadata processing\n",
        "metadata_input = layers.Input(shape=(X_numeric.shape[1] + X_categorical.shape[1],))\n",
        "y = layers.Dense(128, activation='relu')(metadata_input)\n",
        "y = layers.Dense(64, activation='relu')(y)"
      ]
    },
    {
      "cell_type": "code",
      "execution_count": null,
      "id": "4e783ef0",
      "metadata": {
        "id": "4e783ef0"
      },
      "outputs": [],
      "source": [
        "\n",
        "# Combine image and metadata features and define the output layer\n",
        "combined = layers.concatenate([x, y])\n",
        "output = layers.Dense(1)(combined)"
      ]
    },
    {
      "cell_type": "code",
      "execution_count": null,
      "id": "d0792bad",
      "metadata": {
        "id": "d0792bad"
      },
      "outputs": [],
      "source": [
        "# Compile the model with Adam optimizer and mean squared error loss\n",
        "model = models.Model(inputs=[image_input, metadata_input], outputs=output)\n",
        "optimizer = optimizers.Adam(learning_rate=0.001)\n",
        "model.compile(optimizer=optimizer, loss='mean_squared_error', metrics=['mae'])"
      ]
    },
    {
      "cell_type": "code",
      "execution_count": null,
      "id": "42f9a103",
      "metadata": {
        "colab": {
          "base_uri": "https://localhost:8080/"
        },
        "id": "42f9a103",
        "outputId": "1ee5a449-bce2-4208-ad57-f79af8c9f66a"
      },
      "outputs": [
        {
          "name": "stdout",
          "output_type": "stream",
          "text": [
            "Epoch 1/100\n",
            "\u001b[1m73/73\u001b[0m \u001b[32m━━━━━━━━━━━━━━━━━━━━\u001b[0m\u001b[37m\u001b[0m \u001b[1m59s\u001b[0m 498ms/step - loss: 51.6551 - mae: 5.5979 - val_loss: 20.9592 - val_mae: 3.5045\n",
            "Epoch 2/100\n",
            "\u001b[1m73/73\u001b[0m \u001b[32m━━━━━━━━━━━━━━━━━━━━\u001b[0m\u001b[37m\u001b[0m \u001b[1m35s\u001b[0m 28ms/step - loss: 19.4965 - mae: 3.4796 - val_loss: 16.2473 - val_mae: 3.0475\n",
            "Epoch 3/100\n",
            "\u001b[1m73/73\u001b[0m \u001b[32m━━━━━━━━━━━━━━━━━━━━\u001b[0m\u001b[37m\u001b[0m \u001b[1m2s\u001b[0m 27ms/step - loss: 16.8695 - mae: 3.1826 - val_loss: 14.4568 - val_mae: 2.9195\n",
            "Epoch 4/100\n",
            "\u001b[1m73/73\u001b[0m \u001b[32m━━━━━━━━━━━━━━━━━━━━\u001b[0m\u001b[37m\u001b[0m \u001b[1m3s\u001b[0m 34ms/step - loss: 13.9582 - mae: 2.9134 - val_loss: 13.1061 - val_mae: 2.8056\n",
            "Epoch 5/100\n",
            "\u001b[1m73/73\u001b[0m \u001b[32m━━━━━━━━━━━━━━━━━━━━\u001b[0m\u001b[37m\u001b[0m \u001b[1m2s\u001b[0m 27ms/step - loss: 12.7595 - mae: 2.8311 - val_loss: 12.0449 - val_mae: 2.7394\n",
            "Epoch 6/100\n",
            "\u001b[1m73/73\u001b[0m \u001b[32m━━━━━━━━━━━━━━━━━━━━\u001b[0m\u001b[37m\u001b[0m \u001b[1m2s\u001b[0m 30ms/step - loss: 10.8073 - mae: 2.6090 - val_loss: 11.0901 - val_mae: 2.6082\n",
            "Epoch 7/100\n",
            "\u001b[1m73/73\u001b[0m \u001b[32m━━━━━━━━━━━━━━━━━━━━\u001b[0m\u001b[37m\u001b[0m \u001b[1m2s\u001b[0m 27ms/step - loss: 9.6312 - mae: 2.4318 - val_loss: 9.0130 - val_mae: 2.3109\n",
            "Epoch 8/100\n",
            "\u001b[1m73/73\u001b[0m \u001b[32m━━━━━━━━━━━━━━━━━━━━\u001b[0m\u001b[37m\u001b[0m \u001b[1m3s\u001b[0m 30ms/step - loss: 8.7830 - mae: 2.3240 - val_loss: 8.4610 - val_mae: 2.2441\n",
            "Epoch 9/100\n",
            "\u001b[1m73/73\u001b[0m \u001b[32m━━━━━━━━━━━━━━━━━━━━\u001b[0m\u001b[37m\u001b[0m \u001b[1m3s\u001b[0m 30ms/step - loss: 9.5098 - mae: 2.4333 - val_loss: 9.2561 - val_mae: 2.5465\n",
            "Epoch 10/100\n",
            "\u001b[1m73/73\u001b[0m \u001b[32m━━━━━━━━━━━━━━━━━━━━\u001b[0m\u001b[37m\u001b[0m \u001b[1m3s\u001b[0m 30ms/step - loss: 7.3990 - mae: 2.1540 - val_loss: 7.4093 - val_mae: 2.0927\n",
            "Epoch 11/100\n",
            "\u001b[1m73/73\u001b[0m \u001b[32m━━━━━━━━━━━━━━━━━━━━\u001b[0m\u001b[37m\u001b[0m \u001b[1m2s\u001b[0m 27ms/step - loss: 5.9147 - mae: 1.9452 - val_loss: 8.6386 - val_mae: 2.4741\n",
            "Epoch 12/100\n",
            "\u001b[1m73/73\u001b[0m \u001b[32m━━━━━━━━━━━━━━━━━━━━\u001b[0m\u001b[37m\u001b[0m \u001b[1m2s\u001b[0m 27ms/step - loss: 5.9844 - mae: 1.9453 - val_loss: 5.9408 - val_mae: 1.9871\n",
            "Epoch 13/100\n",
            "\u001b[1m73/73\u001b[0m \u001b[32m━━━━━━━━━━━━━━━━━━━━\u001b[0m\u001b[37m\u001b[0m \u001b[1m3s\u001b[0m 30ms/step - loss: 5.2630 - mae: 1.7852 - val_loss: 4.9638 - val_mae: 1.7085\n",
            "Epoch 14/100\n",
            "\u001b[1m73/73\u001b[0m \u001b[32m━━━━━━━━━━━━━━━━━━━━\u001b[0m\u001b[37m\u001b[0m \u001b[1m3s\u001b[0m 30ms/step - loss: 4.7512 - mae: 1.7020 - val_loss: 6.3479 - val_mae: 2.0998\n",
            "Epoch 15/100\n",
            "\u001b[1m73/73\u001b[0m \u001b[32m━━━━━━━━━━━━━━━━━━━━\u001b[0m\u001b[37m\u001b[0m \u001b[1m3s\u001b[0m 33ms/step - loss: 5.7966 - mae: 1.9388 - val_loss: 4.9058 - val_mae: 1.8109\n",
            "Epoch 16/100\n",
            "\u001b[1m73/73\u001b[0m \u001b[32m━━━━━━━━━━━━━━━━━━━━\u001b[0m\u001b[37m\u001b[0m \u001b[1m2s\u001b[0m 28ms/step - loss: 4.8289 - mae: 1.7246 - val_loss: 5.4359 - val_mae: 1.7937\n",
            "Epoch 17/100\n",
            "\u001b[1m73/73\u001b[0m \u001b[32m━━━━━━━━━━━━━━━━━━━━\u001b[0m\u001b[37m\u001b[0m \u001b[1m3s\u001b[0m 30ms/step - loss: 5.4619 - mae: 1.8621 - val_loss: 5.1144 - val_mae: 1.7135\n",
            "Epoch 18/100\n",
            "\u001b[1m73/73\u001b[0m \u001b[32m━━━━━━━━━━━━━━━━━━━━\u001b[0m\u001b[37m\u001b[0m \u001b[1m2s\u001b[0m 27ms/step - loss: 3.9514 - mae: 1.5455 - val_loss: 3.3923 - val_mae: 1.4387\n",
            "Epoch 19/100\n",
            "\u001b[1m73/73\u001b[0m \u001b[32m━━━━━━━━━━━━━━━━━━━━\u001b[0m\u001b[37m\u001b[0m \u001b[1m3s\u001b[0m 31ms/step - loss: 4.8473 - mae: 1.7483 - val_loss: 3.9970 - val_mae: 1.4587\n",
            "Epoch 20/100\n",
            "\u001b[1m73/73\u001b[0m \u001b[32m━━━━━━━━━━━━━━━━━━━━\u001b[0m\u001b[37m\u001b[0m \u001b[1m2s\u001b[0m 29ms/step - loss: 3.8745 - mae: 1.5255 - val_loss: 4.0810 - val_mae: 1.6208\n",
            "Epoch 21/100\n",
            "\u001b[1m73/73\u001b[0m \u001b[32m━━━━━━━━━━━━━━━━━━━━\u001b[0m\u001b[37m\u001b[0m \u001b[1m3s\u001b[0m 35ms/step - loss: 3.9041 - mae: 1.5658 - val_loss: 3.2536 - val_mae: 1.3323\n",
            "Epoch 22/100\n",
            "\u001b[1m73/73\u001b[0m \u001b[32m━━━━━━━━━━━━━━━━━━━━\u001b[0m\u001b[37m\u001b[0m \u001b[1m2s\u001b[0m 27ms/step - loss: 3.0509 - mae: 1.3428 - val_loss: 3.1859 - val_mae: 1.2982\n",
            "Epoch 23/100\n",
            "\u001b[1m73/73\u001b[0m \u001b[32m━━━━━━━━━━━━━━━━━━━━\u001b[0m\u001b[37m\u001b[0m \u001b[1m2s\u001b[0m 27ms/step - loss: 2.9660 - mae: 1.3181 - val_loss: 4.4069 - val_mae: 1.7238\n",
            "Epoch 24/100\n",
            "\u001b[1m73/73\u001b[0m \u001b[32m━━━━━━━━━━━━━━━━━━━━\u001b[0m\u001b[37m\u001b[0m \u001b[1m2s\u001b[0m 27ms/step - loss: 3.2991 - mae: 1.4134 - val_loss: 2.8548 - val_mae: 1.1998\n",
            "Epoch 25/100\n",
            "\u001b[1m73/73\u001b[0m \u001b[32m━━━━━━━━━━━━━━━━━━━━\u001b[0m\u001b[37m\u001b[0m \u001b[1m3s\u001b[0m 27ms/step - loss: 3.0541 - mae: 1.3343 - val_loss: 4.3923 - val_mae: 1.7584\n",
            "Epoch 26/100\n",
            "\u001b[1m73/73\u001b[0m \u001b[32m━━━━━━━━━━━━━━━━━━━━\u001b[0m\u001b[37m\u001b[0m \u001b[1m2s\u001b[0m 30ms/step - loss: 2.9706 - mae: 1.3295 - val_loss: 4.4178 - val_mae: 1.6037\n",
            "Epoch 27/100\n",
            "\u001b[1m73/73\u001b[0m \u001b[32m━━━━━━━━━━━━━━━━━━━━\u001b[0m\u001b[37m\u001b[0m \u001b[1m3s\u001b[0m 34ms/step - loss: 3.4154 - mae: 1.4349 - val_loss: 2.5597 - val_mae: 1.1373\n",
            "Epoch 28/100\n",
            "\u001b[1m73/73\u001b[0m \u001b[32m━━━━━━━━━━━━━━━━━━━━\u001b[0m\u001b[37m\u001b[0m \u001b[1m2s\u001b[0m 27ms/step - loss: 2.6542 - mae: 1.2030 - val_loss: 2.4902 - val_mae: 1.0994\n",
            "Epoch 29/100\n",
            "\u001b[1m73/73\u001b[0m \u001b[32m━━━━━━━━━━━━━━━━━━━━\u001b[0m\u001b[37m\u001b[0m \u001b[1m3s\u001b[0m 27ms/step - loss: 2.6748 - mae: 1.2222 - val_loss: 3.0491 - val_mae: 1.2768\n",
            "Epoch 30/100\n",
            "\u001b[1m73/73\u001b[0m \u001b[32m━━━━━━━━━━━━━━━━━━━━\u001b[0m\u001b[37m\u001b[0m \u001b[1m2s\u001b[0m 27ms/step - loss: 2.8338 - mae: 1.2844 - val_loss: 2.8476 - val_mae: 1.2037\n",
            "Epoch 31/100\n",
            "\u001b[1m73/73\u001b[0m \u001b[32m━━━━━━━━━━━━━━━━━━━━\u001b[0m\u001b[37m\u001b[0m \u001b[1m2s\u001b[0m 27ms/step - loss: 2.7084 - mae: 1.2532 - val_loss: 2.7545 - val_mae: 1.2380\n",
            "Epoch 32/100\n",
            "\u001b[1m73/73\u001b[0m \u001b[32m━━━━━━━━━━━━━━━━━━━━\u001b[0m\u001b[37m\u001b[0m \u001b[1m2s\u001b[0m 30ms/step - loss: 2.8449 - mae: 1.2888 - val_loss: 2.9901 - val_mae: 1.3030\n",
            "Epoch 33/100\n",
            "\u001b[1m73/73\u001b[0m \u001b[32m━━━━━━━━━━━━━━━━━━━━\u001b[0m\u001b[37m\u001b[0m \u001b[1m3s\u001b[0m 33ms/step - loss: 2.7921 - mae: 1.2825 - val_loss: 3.0221 - val_mae: 1.2371\n"
          ]
        }
      ],
      "source": [
        "# Model Training\n",
        "# Early stopping callback to prevent overfitting\n",
        "\n",
        "callback = callbacks.EarlyStopping(monitor='val_loss', patience=5)\n",
        "history = model.fit([X_img_train, np.hstack([X_num_train, X_cat_train])], Y_train,\n",
        "                    validation_data=([X_img_val, np.hstack([X_num_val, X_cat_val])], Y_val),\n",
        "                    epochs=100, batch_size=16, callbacks=[callback])\n"
      ]
    },
    {
      "cell_type": "code",
      "execution_count": null,
      "id": "2d26eae8",
      "metadata": {
        "colab": {
          "base_uri": "https://localhost:8080/",
          "height": 449
        },
        "id": "2d26eae8",
        "outputId": "d8912a5d-9225-4122-84a3-14018d35e46e"
      },
      "outputs": [
        {
          "data": {
            "image/png": "[encoded data removed]",
            "text/plain": [
              "<Figure size 640x480 with 1 Axes>"
            ]
          },
          "metadata": {},
          "output_type": "display_data"
        }
      ],
      "source": [
        "\n",
        "# Plot training and validation Mean Absolute Error (MAE) over epochs\n",
        "import matplotlib.pyplot as plt\n",
        "plt.figure()\n",
        "plt.plot(history.history['mae'], label='MAE (Training)')\n",
        "plt.plot(history.history['val_mae'], label='MAE (Validation)')\n",
        "plt.xlabel('Epochs')\n",
        "plt.ylabel('Mean Absolute Error')\n",
        "plt.legend()\n",
        "plt.show()"
      ]
    },
    {
      "cell_type": "code",
      "execution_count": null,
      "id": "5f7c1e56",
      "metadata": {
        "id": "5f7c1e56"
      },
      "outputs": [],
      "source": [
        "# Test Data Processing\n",
        "# Load the test metadata\n",
        "test_metadata_path = 'test.csv'\n",
        "test_metadata_df = pd.read_csv(test_metadata_path)\n",
        "\n",
        "# Function to clean and normalize poster filenames\n",
        "def clean_filename(title):\n",
        "    title = re.sub(r'[^\\w\\s\\-\\'\\.\\!\\&\\(\\)]', '', title)  # Remove unwanted special characters\n",
        "    return title\n",
        "\n",
        "\n",
        "# Generate normalized poster filenames for the test set\n",
        "test_metadata_df['Poster_Filename'] = test_metadata_df['Title'].apply(clean_filename) + '_' + test_metadata_df['Year'].astype(str) + '.jpg'\n"
      ]
    },
    {
      "cell_type": "code",
      "execution_count": null,
      "id": "b24f42d8",
      "metadata": {
        "id": "b24f42d8"
      },
      "outputs": [],
      "source": [
        "# Process test posters\n",
        "poster_folder2 = '/content/drive/MyDrive/posters_test'\n",
        "image_size = (224, 224)\n",
        "X_test_images = []\n",
        "for filename in test_metadata_df['Poster_Filename']:\n",
        "    img_path = os.path.join(poster_folder2, filename)\n",
        "    if os.path.exists(img_path):  # If the poster exists, load and preprocess it\n",
        "        img = Image.open(img_path).convert('RGB')\n",
        "        img = img.resize(image_size)\n",
        "        img = np.array(img) / 255.0   # Normalize pixel values\n",
        "        X_test_images.append(img)\n",
        "    else:   # Handle missing posters with noisy images\n",
        "        print(filename)\n",
        "        X_test_images.append(np.random.normal(0.5, 0.1, (*image_size, 3))) \n",
        "\n",
        "# Convert test images to a NumPy array\n",
        "X_test_images = np.array(X_test_images)"
      ]
    },
    {
      "cell_type": "code",
      "execution_count": null,
      "id": "418b1a8f",
      "metadata": {
        "id": "418b1a8f"
      },
      "outputs": [],
      "source": [
        "# Process numerical features in test data\n",
        "\n",
        "X_test_numeric = scaler.transform(test_metadata_df[numerical_features].values)"
      ]
    },
    {
      "cell_type": "code",
      "execution_count": null,
      "id": "f4a3f4d0",
      "metadata": {
        "id": "f4a3f4d0"
      },
      "outputs": [],
      "source": [
        "# Encode categorical features in test data using the same encoders\n",
        "X_test_categorical = []\n",
        "for feature in categorical_features:\n",
        "    \n",
        "    encoder = encoders[feature]\n",
        "    test_labels = test_metadata_df[feature]\n",
        "\n",
        "    # Assign unknown labels if not seen during training\n",
        "    test_labels = test_labels.apply(lambda x: x if x in encoder.classes_ else 'Unknown')\n",
        "\n",
        "    # 'Unknown' sınıfını ekle\n",
        "    if 'Unknown' not in encoder.classes_:\n",
        "        encoder.classes_ = np.append(encoder.classes_, 'Unknown')\n",
        "\n",
        "    # Transform test data labels\n",
        "    X_test_categorical.append(encoder.transform(test_labels))\n",
        "X_test_categorical = np.column_stack(X_test_categorical)"
      ]
    },
    {
      "cell_type": "code",
      "execution_count": null,
      "id": "daba36c9",
      "metadata": {
        "id": "daba36c9"
      },
      "outputs": [],
      "source": [
        "\n",
        "# Get actual BoxOffice values for test data\n",
        "Y_test_actual = np.log1p(test_metadata_df['BoxOffice'].values)"
      ]
    },
    {
      "cell_type": "code",
      "execution_count": null,
      "id": "ae11976f",
      "metadata": {
        "colab": {
          "base_uri": "https://localhost:8080/"
        },
        "id": "ae11976f",
        "outputId": "e24666b7-2431-4104-d575-d9d1127b8d33"
      },
      "outputs": [
        {
          "name": "stdout",
          "output_type": "stream",
          "text": [
            "\u001b[1m5/5\u001b[0m \u001b[32m━━━━━━━━━━━━━━━━━━━━\u001b[0m\u001b[37m\u001b[0m \u001b[1m17s\u001b[0m 2s/step\n",
            "Test Set MSE: 5.9761\n",
            "Test Set MAE: 1.8212\n"
          ]
        }
      ],
      "source": [
        "# Model Evaluation\n",
        "# Make predictions on test data\n",
        "Y_test_pred = model.predict([X_test_images, np.hstack([X_test_numeric, X_test_categorical])])\n",
        "\n",
        "# Evaluate model performance on test data\n",
        "\n",
        "from sklearn.metrics import mean_squared_error, mean_absolute_error\n",
        "\n",
        "mse = mean_squared_error(Y_test_actual, Y_test_pred)\n",
        "mae = mean_absolute_error(Y_test_actual, Y_test_pred)\n",
        "\n",
        "print(f\"Test Set MSE: {mse:.4f}\")\n",
        "print(f\"Test Set MAE: {mae:.4f}\")\n"
      ]
    }
  ],
  "metadata": {
    "accelerator": "GPU",
    "colab": {
      "gpuType": "T4",
      "provenance": []
    },
    "kernelspec": {
      "display_name": "Python 3",
      "name": "python3"
    },
    "language_info": {
      "codemirror_mode": {
        "name": "ipython",
        "version": 3
      },
      "file_extension": ".py",
      "mimetype": "text/x-python",
      "name": "python",
      "nbconvert_exporter": "python",
      "pygments_lexer": "ipython3",
      "version": "3.12.3"
    }
  },
  "nbformat": 4,
  "nbformat_minor": 5
}
