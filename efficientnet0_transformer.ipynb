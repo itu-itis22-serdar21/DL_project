{
  "cells": [
    {
      "cell_type": "code",
      "execution_count": 8,
      "metadata": {
        "id": "yKID2YJmdVjg"
      },
      "outputs": [],
      "source": [
        "import os\n",
        "import re\n",
        "import numpy as np\n",
        "import pandas as pd\n",
        "from PIL import Image\n",
        "from sklearn.preprocessing import LabelEncoder\n",
        "from tensorflow.keras.utils import to_categorical\n",
        "from tensorflow.keras import layers, models\n",
        "import shap\n",
        "import matplotlib.pyplot as plt\n",
        "from tensorflow.keras.layers import MultiHeadAttention, Dense, Dropout, LayerNormalization, Input, GlobalAveragePooling1D"
      ]
    },
    {
      "cell_type": "code",
      "execution_count": 9,
      "metadata": {
        "id": "5SxweM5CdVjn"
      },
      "outputs": [],
      "source": [
        "# 1. Metadata Ön İşleme\n",
        "metadata_path = 'cleaned_movies4.csv'\n",
        "metadata_df = pd.read_csv(metadata_path)\n",
        "\n",
        "# Poster isimlerini normalize etme\n",
        "def clean_filename(title):\n",
        "    title = re.sub(r'[^\\w\\s\\-\\'\\.\\!\\&\\(\\)]', '', title)  # Özel karakterleri kaldır (- ve ' hariç)\n",
        "    return title\n",
        "\n",
        "metadata_df['Poster_Filename'] = metadata_df['Title'].apply(clean_filename) + '_' + metadata_df['Year'].astype(str) + '.jpg'"
      ]
    },
    {
      "cell_type": "code",
      "source": [
        "from google.colab import drive\n",
        "drive.mount('/content/drive')"
      ],
      "metadata": {
        "colab": {
          "base_uri": "https://localhost:8080/"
        },
        "id": "HPIgcXiddi4K",
        "outputId": "024f4a64-552a-45ad-c8d0-b61916e0d049"
      },
      "execution_count": 1,
      "outputs": [
        {
          "output_type": "stream",
          "name": "stdout",
          "text": [
            "Mounted at /content/drive\n"
          ]
        }
      ]
    },
    {
      "cell_type": "code",
      "execution_count": 10,
      "metadata": {
        "colab": {
          "base_uri": "https://localhost:8080/"
        },
        "id": "J4_69ylOdVj6",
        "outputId": "04b9ee8a-a7f8-453c-8cd8-23611f5a7cfd"
      },
      "outputs": [
        {
          "output_type": "stream",
          "name": "stdout",
          "text": [
            "1459 0\n"
          ]
        }
      ],
      "source": [
        "# 2. Poster İşleme\n",
        "poster_folder = '/content/drive/MyDrive/posters'\n",
        "image_size = (224, 224)\n",
        "\n",
        "x=0\n",
        "y=0\n",
        "# Görüntüleri işleme ve normalize etme\n",
        "X_images = []\n",
        "for filename in metadata_df['Poster_Filename']:\n",
        "    img_path = os.path.join(poster_folder, filename)\n",
        "    if os.path.exists(img_path):\n",
        "        img = Image.open(img_path).convert('RGB')\n",
        "        img = img.resize(image_size)\n",
        "        img = np.array(img) / 255.0\n",
        "        X_images.append(img)\n",
        "        x +=1\n",
        "    else:\n",
        "        print(filename)\n",
        "        y+=1\n",
        "        X_images.append(np.zeros((*image_size, 3)))  # Eksik posterler için boş resim\n",
        "print(x,y)\n",
        "X_images = np.array(X_images)"
      ]
    },
    {
      "cell_type": "code",
      "execution_count": 12,
      "metadata": {
        "id": "lXnaYTJjdVj9"
      },
      "outputs": [],
      "source": [
        "# 3. Metadata İşleme\n",
        "# Sayısal sütunlar\n",
        "numerical_features = ['Runtime(min)', 'Budget']\n",
        "X_numeric = metadata_df[numerical_features].values\n",
        "\n",
        "# Kategorik sütunları encode etme\n",
        "categorical_features = ['Director', 'Country', 'Genre1', 'Genre2', 'Genre3', 'Actor1', 'Actor2', 'Actor3']\n",
        "encoders = {}\n",
        "X_categorical = []\n",
        "for feature in categorical_features:\n",
        "    le = LabelEncoder()\n",
        "    metadata_df[feature] = le.fit_transform(metadata_df[feature])\n",
        "    X_categorical.append(metadata_df[feature].values)\n",
        "    encoders[feature] = le\n",
        "\n",
        "X_categorical = np.column_stack(X_categorical)\n",
        "\n",
        "# Bağımlı değişken (Y)\n",
        "Y = metadata_df['BoxOffice'].values"
      ]
    },
    {
      "cell_type": "code",
      "execution_count": 13,
      "metadata": {
        "id": "u_yukfC5dVj-"
      },
      "outputs": [],
      "source": [
        "# Modelleme Aşaması\n",
        "# 1. EfficientNetB0 Modeli için Görüntü İşleme\n",
        "image_input = layers.Input(shape=(224, 224, 3))\n",
        "x = layers.Conv2D(32, (3, 3), activation='relu')(image_input)\n",
        "x = layers.MaxPooling2D((2, 2))(x)\n",
        "x = layers.Conv2D(64, (3, 3), activation='relu')(x)\n",
        "x = layers.MaxPooling2D((2, 2))(x)\n",
        "x = layers.Flatten()(x)"
      ]
    },
    {
      "cell_type": "code",
      "execution_count": 21,
      "metadata": {
        "id": "UwopZJWcdVkA"
      },
      "outputs": [],
      "source": [
        "# 2. Metadata için Transformer\n",
        "\n",
        "def transformer_block(inputs, num_heads, key_dim, ff_dim, dropout_rate=0.001):\n",
        "    # Multi-Head Attention\n",
        "    attention = MultiHeadAttention(num_heads=num_heads, key_dim=key_dim)(inputs, inputs)\n",
        "    attention = Dropout(dropout_rate)(attention)\n",
        "    attention = LayerNormalization(epsilon=1e-6)(attention + inputs)\n",
        "\n",
        "    # Feed Forward Network\n",
        "    ffn = Dense(ff_dim, activation=\"relu\")(attention)\n",
        "    ffn = Dense(inputs.shape[-1])(ffn)\n",
        "    ffn = Dropout(dropout_rate)(ffn)\n",
        "    output = LayerNormalization(epsilon=1e-6)(ffn + attention)\n",
        "\n",
        "    return output"
      ]
    },
    {
      "cell_type": "code",
      "execution_count": 22,
      "metadata": {
        "id": "TGYck47MdVkF"
      },
      "outputs": [],
      "source": [
        "metadata_input = layers.Input(shape=(X_numeric.shape[1] + X_categorical.shape[1],))\n",
        "metadata_reshaped = layers.Reshape((metadata_input.shape[1], 1))(metadata_input)\n",
        "transformer_output = transformer_block(metadata_reshaped, num_heads=4, key_dim=32, ff_dim=128)\n",
        "transformer_output = GlobalAveragePooling1D()(transformer_output)  # Sonuç doğrudan buradan alınır"
      ]
    },
    {
      "cell_type": "code",
      "execution_count": 23,
      "metadata": {
        "id": "K9w5XdtNdVkG"
      },
      "outputs": [],
      "source": [
        "# 3. Birleştirme ve Çıkış Katmanı(transformer)\n",
        "combined = layers.concatenate([x, transformer_output])\n",
        "output = layers.Dense(1)(combined)"
      ]
    },
    {
      "cell_type": "code",
      "execution_count": 24,
      "metadata": {
        "id": "DBNUWS6pdVkH"
      },
      "outputs": [],
      "source": [
        "# Modelin Tanımlanması\n",
        "model = models.Model(inputs=[image_input, metadata_input], outputs=output)\n",
        "model.compile(optimizer='adam', loss='mean_squared_error', metrics=['mae'])"
      ]
    },
    {
      "cell_type": "code",
      "execution_count": 25,
      "metadata": {
        "colab": {
          "base_uri": "https://localhost:8080/"
        },
        "id": "Io25KcGbdVkH",
        "outputId": "321caecb-47c2-4ece-f5cb-8d479d1afb0f"
      },
      "outputs": [
        {
          "output_type": "stream",
          "name": "stdout",
          "text": [
            "Epoch 1/20\n",
            "\u001b[1m42/42\u001b[0m \u001b[32m━━━━━━━━━━━━━━━━━━━━\u001b[0m\u001b[37m\u001b[0m \u001b[1m19s\u001b[0m 188ms/step - loss: 19099111827439616.0000 - mae: 78665120.0000 - val_loss: 13594694625787904.0000 - val_mae: 77127848.0000\n",
            "Epoch 2/20\n",
            "\u001b[1m42/42\u001b[0m \u001b[32m━━━━━━━━━━━━━━━━━━━━\u001b[0m\u001b[37m\u001b[0m \u001b[1m2s\u001b[0m 40ms/step - loss: 18388518078251008.0000 - mae: 76986528.0000 - val_loss: 13440577240563712.0000 - val_mae: 76245880.0000\n",
            "Epoch 3/20\n",
            "\u001b[1m42/42\u001b[0m \u001b[32m━━━━━━━━━━━━━━━━━━━━\u001b[0m\u001b[37m\u001b[0m \u001b[1m2s\u001b[0m 42ms/step - loss: 16277728483344384.0000 - mae: 75079624.0000 - val_loss: 12844124394749952.0000 - val_mae: 73241560.0000\n",
            "Epoch 4/20\n",
            "\u001b[1m42/42\u001b[0m \u001b[32m━━━━━━━━━━━━━━━━━━━━\u001b[0m\u001b[37m\u001b[0m \u001b[1m2s\u001b[0m 40ms/step - loss: 13385775605350400.0000 - mae: 66149212.0000 - val_loss: 11606838806052864.0000 - val_mae: 67006092.0000\n",
            "Epoch 5/20\n",
            "\u001b[1m42/42\u001b[0m \u001b[32m━━━━━━━━━━━━━━━━━━━━\u001b[0m\u001b[37m\u001b[0m \u001b[1m2s\u001b[0m 46ms/step - loss: 14211676341534720.0000 - mae: 65272628.0000 - val_loss: 10132966017597440.0000 - val_mae: 61046792.0000\n",
            "Epoch 6/20\n",
            "\u001b[1m42/42\u001b[0m \u001b[32m━━━━━━━━━━━━━━━━━━━━\u001b[0m\u001b[37m\u001b[0m \u001b[1m2s\u001b[0m 43ms/step - loss: 11459518206574592.0000 - mae: 59285824.0000 - val_loss: 9169189315018752.0000 - val_mae: 61855148.0000\n",
            "Epoch 7/20\n",
            "\u001b[1m42/42\u001b[0m \u001b[32m━━━━━━━━━━━━━━━━━━━━\u001b[0m\u001b[37m\u001b[0m \u001b[1m2s\u001b[0m 40ms/step - loss: 10757584185196544.0000 - mae: 61224828.0000 - val_loss: 8970700622659584.0000 - val_mae: 64291980.0000\n",
            "Epoch 8/20\n",
            "\u001b[1m42/42\u001b[0m \u001b[32m━━━━━━━━━━━━━━━━━━━━\u001b[0m\u001b[37m\u001b[0m \u001b[1m2s\u001b[0m 40ms/step - loss: 13205511532969984.0000 - mae: 69179736.0000 - val_loss: 8963839949275136.0000 - val_mae: 65480036.0000\n",
            "Epoch 9/20\n",
            "\u001b[1m42/42\u001b[0m \u001b[32m━━━━━━━━━━━━━━━━━━━━\u001b[0m\u001b[37m\u001b[0m \u001b[1m2s\u001b[0m 40ms/step - loss: 10518935401136128.0000 - mae: 64958432.0000 - val_loss: 8963232211402752.0000 - val_mae: 65814064.0000\n",
            "Epoch 10/20\n",
            "\u001b[1m42/42\u001b[0m \u001b[32m━━━━━━━━━━━━━━━━━━━━\u001b[0m\u001b[37m\u001b[0m \u001b[1m3s\u001b[0m 40ms/step - loss: 10603213396901888.0000 - mae: 64871640.0000 - val_loss: 8966606981955584.0000 - val_mae: 66192796.0000\n",
            "Epoch 11/20\n",
            "\u001b[1m42/42\u001b[0m \u001b[32m━━━━━━━━━━━━━━━━━━━━\u001b[0m\u001b[37m\u001b[0m \u001b[1m2s\u001b[0m 44ms/step - loss: 10001585115496448.0000 - mae: 63020016.0000 - val_loss: 8976440309579776.0000 - val_mae: 66626364.0000\n",
            "Epoch 12/20\n",
            "\u001b[1m42/42\u001b[0m \u001b[32m━━━━━━━━━━━━━━━━━━━━\u001b[0m\u001b[37m\u001b[0m \u001b[1m4s\u001b[0m 67ms/step - loss: 10369009903992832.0000 - mae: 64444144.0000 - val_loss: 8962025862463488.0000 - val_mae: 66482444.0000\n",
            "Epoch 13/20\n",
            "\u001b[1m42/42\u001b[0m \u001b[32m━━━━━━━━━━━━━━━━━━━━\u001b[0m\u001b[37m\u001b[0m \u001b[1m4s\u001b[0m 43ms/step - loss: 14338611952484352.0000 - mae: 69434584.0000 - val_loss: 8934198232481792.0000 - val_mae: 66012140.0000\n",
            "Epoch 14/20\n",
            "\u001b[1m42/42\u001b[0m \u001b[32m━━━━━━━━━━━━━━━━━━━━\u001b[0m\u001b[37m\u001b[0m \u001b[1m2s\u001b[0m 40ms/step - loss: 12791769817153536.0000 - mae: 66887544.0000 - val_loss: 8929528529289216.0000 - val_mae: 66089508.0000\n",
            "Epoch 15/20\n",
            "\u001b[1m42/42\u001b[0m \u001b[32m━━━━━━━━━━━━━━━━━━━━\u001b[0m\u001b[37m\u001b[0m \u001b[1m3s\u001b[0m 40ms/step - loss: 12977178186612736.0000 - mae: 69302680.0000 - val_loss: 8932987051704320.0000 - val_mae: 66391600.0000\n",
            "Epoch 16/20\n",
            "\u001b[1m42/42\u001b[0m \u001b[32m━━━━━━━━━━━━━━━━━━━━\u001b[0m\u001b[37m\u001b[0m \u001b[1m2s\u001b[0m 41ms/step - loss: 11792562855608320.0000 - mae: 69008768.0000 - val_loss: 8923747503308800.0000 - val_mae: 66342420.0000\n",
            "Epoch 17/20\n",
            "\u001b[1m42/42\u001b[0m \u001b[32m━━━━━━━━━━━━━━━━━━━━\u001b[0m\u001b[37m\u001b[0m \u001b[1m2s\u001b[0m 44ms/step - loss: 11230889581215744.0000 - mae: 66556740.0000 - val_loss: 8905709177536512.0000 - val_mae: 66058276.0000\n",
            "Epoch 18/20\n",
            "\u001b[1m42/42\u001b[0m \u001b[32m━━━━━━━━━━━━━━━━━━━━\u001b[0m\u001b[37m\u001b[0m \u001b[1m2s\u001b[0m 42ms/step - loss: 11192670814732288.0000 - mae: 66549180.0000 - val_loss: 8908986774454272.0000 - val_mae: 66286608.0000\n",
            "Epoch 19/20\n",
            "\u001b[1m42/42\u001b[0m \u001b[32m━━━━━━━━━━━━━━━━━━━━\u001b[0m\u001b[37m\u001b[0m \u001b[1m2s\u001b[0m 40ms/step - loss: 12775730261786624.0000 - mae: 69457720.0000 - val_loss: 8890452379959296.0000 - val_mae: 66020696.0000\n",
            "Epoch 20/20\n",
            "\u001b[1m42/42\u001b[0m \u001b[32m━━━━━━━━━━━━━━━━━━━━\u001b[0m\u001b[37m\u001b[0m \u001b[1m2s\u001b[0m 42ms/step - loss: 12743196958261248.0000 - mae: 68801432.0000 - val_loss: 8915713766981632.0000 - val_mae: 66699504.0000\n"
          ]
        }
      ],
      "source": [
        "# Model Eğitimi\n",
        "history = model.fit([X_images, np.hstack([X_numeric, X_categorical])], Y, epochs=20, batch_size=32, validation_split=0.1)"
      ]
    },
    {
      "cell_type": "code",
      "execution_count": 44,
      "metadata": {
        "colab": {
          "base_uri": "https://localhost:8080/",
          "height": 373
        },
        "id": "2JPo11NgdVkI",
        "outputId": "ec936f5f-40f9-441f-e2df-23b1857dfbad"
      },
      "outputs": [
        {
          "output_type": "error",
          "ename": "KeyboardInterrupt",
          "evalue": "",
          "traceback": [
            "\u001b[0;31m---------------------------------------------------------------------------\u001b[0m",
            "\u001b[0;31mKeyboardInterrupt\u001b[0m                         Traceback (most recent call last)",
            "\u001b[0;32m<ipython-input-44-4516192e2e25>\u001b[0m in \u001b[0;36m<cell line: 5>\u001b[0;34m()\u001b[0m\n\u001b[1;32m     10\u001b[0m \u001b[0;34m\u001b[0m\u001b[0m\n\u001b[1;32m     11\u001b[0m     \u001b[0mexplainer\u001b[0m \u001b[0;34m=\u001b[0m \u001b[0mshap\u001b[0m\u001b[0;34m.\u001b[0m\u001b[0mGradientExplainer\u001b[0m\u001b[0;34m(\u001b[0m\u001b[0mmodel\u001b[0m\u001b[0;34m,\u001b[0m \u001b[0;34m[\u001b[0m\u001b[0mX_batch_images\u001b[0m\u001b[0;34m,\u001b[0m \u001b[0mX_batch_combined\u001b[0m\u001b[0;34m]\u001b[0m\u001b[0;34m)\u001b[0m\u001b[0;34m\u001b[0m\u001b[0;34m\u001b[0m\u001b[0m\n\u001b[0;32m---> 12\u001b[0;31m     \u001b[0mshap_values\u001b[0m\u001b[0;34m.\u001b[0m\u001b[0mappend\u001b[0m\u001b[0;34m(\u001b[0m\u001b[0mexplainer\u001b[0m\u001b[0;34m.\u001b[0m\u001b[0mshap_values\u001b[0m\u001b[0;34m(\u001b[0m\u001b[0;34m[\u001b[0m\u001b[0mX_batch_images\u001b[0m\u001b[0;34m,\u001b[0m \u001b[0mX_batch_combined\u001b[0m\u001b[0;34m]\u001b[0m\u001b[0;34m)\u001b[0m\u001b[0;34m)\u001b[0m\u001b[0;34m\u001b[0m\u001b[0;34m\u001b[0m\u001b[0m\n\u001b[0m",
            "\u001b[0;32m/usr/local/lib/python3.10/dist-packages/shap/explainers/_gradient.py\u001b[0m in \u001b[0;36mshap_values\u001b[0;34m(self, X, nsamples, ranked_outputs, output_rank_order, rseed, return_variances)\u001b[0m\n\u001b[1;32m    156\u001b[0m \u001b[0;34m\u001b[0m\u001b[0m\n\u001b[1;32m    157\u001b[0m         \"\"\"\n\u001b[0;32m--> 158\u001b[0;31m         \u001b[0;32mreturn\u001b[0m \u001b[0mself\u001b[0m\u001b[0;34m.\u001b[0m\u001b[0mexplainer\u001b[0m\u001b[0;34m.\u001b[0m\u001b[0mshap_values\u001b[0m\u001b[0;34m(\u001b[0m\u001b[0mX\u001b[0m\u001b[0;34m,\u001b[0m \u001b[0mnsamples\u001b[0m\u001b[0;34m,\u001b[0m \u001b[0mranked_outputs\u001b[0m\u001b[0;34m,\u001b[0m \u001b[0moutput_rank_order\u001b[0m\u001b[0;34m,\u001b[0m \u001b[0mrseed\u001b[0m\u001b[0;34m,\u001b[0m \u001b[0mreturn_variances\u001b[0m\u001b[0;34m)\u001b[0m\u001b[0;34m\u001b[0m\u001b[0;34m\u001b[0m\u001b[0m\n\u001b[0m\u001b[1;32m    159\u001b[0m \u001b[0;34m\u001b[0m\u001b[0m\n\u001b[1;32m    160\u001b[0m \u001b[0;34m\u001b[0m\u001b[0m\n",
            "\u001b[0;32m/usr/local/lib/python3.10/dist-packages/shap/explainers/_gradient.py\u001b[0m in \u001b[0;36mshap_values\u001b[0;34m(self, X, nsamples, ranked_outputs, output_rank_order, rseed, return_variances)\u001b[0m\n\u001b[1;32m    345\u001b[0m                     \u001b[0msamples\u001b[0m \u001b[0;34m=\u001b[0m \u001b[0mgrad\u001b[0m\u001b[0;34m[\u001b[0m\u001b[0ma\u001b[0m\u001b[0;34m]\u001b[0m \u001b[0;34m*\u001b[0m \u001b[0msamples_delta\u001b[0m\u001b[0;34m[\u001b[0m\u001b[0ma\u001b[0m\u001b[0;34m]\u001b[0m\u001b[0;34m\u001b[0m\u001b[0;34m\u001b[0m\u001b[0m\n\u001b[1;32m    346\u001b[0m                     \u001b[0mphis\u001b[0m\u001b[0;34m[\u001b[0m\u001b[0ma\u001b[0m\u001b[0;34m]\u001b[0m\u001b[0;34m[\u001b[0m\u001b[0mj\u001b[0m\u001b[0;34m]\u001b[0m \u001b[0;34m=\u001b[0m \u001b[0msamples\u001b[0m\u001b[0;34m.\u001b[0m\u001b[0mmean\u001b[0m\u001b[0;34m(\u001b[0m\u001b[0;36m0\u001b[0m\u001b[0;34m)\u001b[0m\u001b[0;34m\u001b[0m\u001b[0;34m\u001b[0m\u001b[0m\n\u001b[0;32m--> 347\u001b[0;31m                     \u001b[0mphi_vars\u001b[0m\u001b[0;34m[\u001b[0m\u001b[0ma\u001b[0m\u001b[0;34m]\u001b[0m\u001b[0;34m[\u001b[0m\u001b[0mj\u001b[0m\u001b[0;34m]\u001b[0m \u001b[0;34m=\u001b[0m \u001b[0msamples\u001b[0m\u001b[0;34m.\u001b[0m\u001b[0mvar\u001b[0m\u001b[0;34m(\u001b[0m\u001b[0;36m0\u001b[0m\u001b[0;34m)\u001b[0m \u001b[0;34m/\u001b[0m \u001b[0mnp\u001b[0m\u001b[0;34m.\u001b[0m\u001b[0msqrt\u001b[0m\u001b[0;34m(\u001b[0m\u001b[0msamples\u001b[0m\u001b[0;34m.\u001b[0m\u001b[0mshape\u001b[0m\u001b[0;34m[\u001b[0m\u001b[0;36m0\u001b[0m\u001b[0;34m]\u001b[0m\u001b[0;34m)\u001b[0m \u001b[0;31m# estimate variance of means\u001b[0m\u001b[0;34m\u001b[0m\u001b[0;34m\u001b[0m\u001b[0m\n\u001b[0m\u001b[1;32m    348\u001b[0m \u001b[0;34m\u001b[0m\u001b[0m\n\u001b[1;32m    349\u001b[0m                 \u001b[0;31m# TODO: this could be avoided by integrating between endpoints if no local smoothing is used\u001b[0m\u001b[0;34m\u001b[0m\u001b[0;34m\u001b[0m\u001b[0m\n",
            "\u001b[0;32m/usr/local/lib/python3.10/dist-packages/numpy/core/_methods.py\u001b[0m in \u001b[0;36m_var\u001b[0;34m(a, axis, dtype, out, ddof, keepdims, where)\u001b[0m\n\u001b[1;32m    171\u001b[0m     \u001b[0;31m# Note that x may not be inexact and that we need it to be an array,\u001b[0m\u001b[0;34m\u001b[0m\u001b[0;34m\u001b[0m\u001b[0m\n\u001b[1;32m    172\u001b[0m     \u001b[0;31m# not a scalar.\u001b[0m\u001b[0;34m\u001b[0m\u001b[0;34m\u001b[0m\u001b[0m\n\u001b[0;32m--> 173\u001b[0;31m     \u001b[0mx\u001b[0m \u001b[0;34m=\u001b[0m \u001b[0masanyarray\u001b[0m\u001b[0;34m(\u001b[0m\u001b[0marr\u001b[0m \u001b[0;34m-\u001b[0m \u001b[0marrmean\u001b[0m\u001b[0;34m)\u001b[0m\u001b[0;34m\u001b[0m\u001b[0;34m\u001b[0m\u001b[0m\n\u001b[0m\u001b[1;32m    174\u001b[0m \u001b[0;34m\u001b[0m\u001b[0m\n\u001b[1;32m    175\u001b[0m     \u001b[0;32mif\u001b[0m \u001b[0missubclass\u001b[0m\u001b[0;34m(\u001b[0m\u001b[0marr\u001b[0m\u001b[0;34m.\u001b[0m\u001b[0mdtype\u001b[0m\u001b[0;34m.\u001b[0m\u001b[0mtype\u001b[0m\u001b[0;34m,\u001b[0m \u001b[0;34m(\u001b[0m\u001b[0mnt\u001b[0m\u001b[0;34m.\u001b[0m\u001b[0mfloating\u001b[0m\u001b[0;34m,\u001b[0m \u001b[0mnt\u001b[0m\u001b[0;34m.\u001b[0m\u001b[0minteger\u001b[0m\u001b[0;34m)\u001b[0m\u001b[0;34m)\u001b[0m\u001b[0;34m:\u001b[0m\u001b[0;34m\u001b[0m\u001b[0;34m\u001b[0m\u001b[0m\n",
            "\u001b[0;31mKeyboardInterrupt\u001b[0m: "
          ]
        }
      ],
      "source": [
        "# SHAP Analizi\n",
        "batch_size = 32  # İşlenecek örnek sayısını ayarlayın\n",
        "shap_values = []\n",
        "\n",
        "for i in range(0, len(X_images), batch_size):\n",
        "    X_batch_images = X_images[i:i + batch_size]\n",
        "    X_batch_numeric = X_numeric[i:i + batch_size]\n",
        "    X_batch_categorical = X_categorical[i:i + batch_size]\n",
        "    X_batch_combined = np.hstack([X_batch_numeric, X_batch_categorical])\n",
        "\n",
        "    explainer = shap.GradientExplainer(model, [X_batch_images, X_batch_combined])\n",
        "    shap_values.append(explainer.shap_values([X_batch_images, X_batch_combined]))\n"
      ]
    },
    {
      "cell_type": "code",
      "source": [
        "import numpy as np\n",
        "import shap\n",
        "\n",
        "batch_size = 32  # İşlenecek örnek sayısını ayarlayın\n",
        "shap_values = []\n",
        "\n",
        "# Batch işlemleri için paralel hesaplama\n",
        "from concurrent.futures import ThreadPoolExecutor\n",
        "\n",
        "def process_batch(start_idx):\n",
        "    X_batch_images = X_images[start_idx:start_idx + batch_size]\n",
        "    X_batch_numeric = X_numeric[start_idx:start_idx + batch_size]\n",
        "    X_batch_categorical = X_categorical[start_idx:start_idx + batch_size]\n",
        "    X_batch_combined = np.hstack([X_batch_numeric, X_batch_categorical])\n",
        "\n",
        "    explainer = shap.GradientExplainer(model, [X_batch_images, X_batch_combined])\n",
        "    return explainer.shap_values([X_batch_images, X_batch_combined])\n",
        "\n",
        "# Paralel işleme\n",
        "with ThreadPoolExecutor() as executor:\n",
        "    futures = [executor.submit(process_batch, i) for i in range(0, len(X_images), batch_size)]\n",
        "    for future in futures:\n",
        "        shap_values.append(future.result())\n"
      ],
      "metadata": {
        "colab": {
          "base_uri": "https://localhost:8080/"
        },
        "id": "YLFnL4QGnhD3",
        "outputId": "878c76c3-62ff-4b12-a524-557211fc8677"
      },
      "execution_count": 45,
      "outputs": [
        {
          "output_type": "stream",
          "name": "stderr",
          "text": [
            "WARNING:tensorflow:5 out of the last 60 calls to <function _TFGradient.gradient.<locals>.grad_graph at 0x7e0087f15870> triggered tf.function retracing. Tracing is expensive and the excessive number of tracings could be due to (1) creating @tf.function repeatedly in a loop, (2) passing tensors with different shapes, (3) passing Python objects instead of tensors. For (1), please define your @tf.function outside of the loop. For (2), @tf.function has reduce_retracing=True option that can avoid unnecessary retracing. For (3), please refer to https://www.tensorflow.org/guide/function#controlling_retracing and https://www.tensorflow.org/api_docs/python/tf/function for  more details.\n",
            "WARNING:tensorflow:6 out of the last 62 calls to <function _TFGradient.gradient.<locals>.grad_graph at 0x7e0089e6b9a0> triggered tf.function retracing. Tracing is expensive and the excessive number of tracings could be due to (1) creating @tf.function repeatedly in a loop, (2) passing tensors with different shapes, (3) passing Python objects instead of tensors. For (1), please define your @tf.function outside of the loop. For (2), @tf.function has reduce_retracing=True option that can avoid unnecessary retracing. For (3), please refer to https://www.tensorflow.org/guide/function#controlling_retracing and https://www.tensorflow.org/api_docs/python/tf/function for  more details.\n"
          ]
        }
      ]
    },
    {
      "cell_type": "code",
      "source": [
        "# İlk giriş (görüntüler) için SHAP değerlerini birleştir\n",
        "shap_images = np.concatenate([batch[0] for batch in shap_values], axis=0)\n",
        "\n",
        "# İkinci giriş (sayısal + kategorik) için SHAP değerlerini birleştir\n",
        "shap_combined = np.concatenate([batch[1] for batch in shap_values], axis=0)\n"
      ],
      "metadata": {
        "id": "kuGJGel4qepx"
      },
      "execution_count": 47,
      "outputs": []
    },
    {
      "cell_type": "code",
      "source": [
        "shap.summary_plot(shap_combined, features=np.hstack([X_numeric, X_categorical]))\n"
      ],
      "metadata": {
        "colab": {
          "base_uri": "https://localhost:8080/",
          "height": 752
        },
        "id": "0YE2kDzwqpVT",
        "outputId": "a014d8fd-eb7b-4b9a-9f30-d2d4860d0c20"
      },
      "execution_count": 48,
      "outputs": [
        {
          "output_type": "stream",
          "name": "stderr",
          "text": [
            "/usr/local/lib/python3.10/dist-packages/shap/plots/_beeswarm.py:600: UserWarning: Attempting to set identical low and high xlims makes transformation singular; automatically expanding.\n",
            "  pl.xlim((slow, shigh))\n"
          ]
        },
        {
          "output_type": "display_data",
          "data": {
            "text/plain": [
              "<Figure size 1150x660 with 1 Axes>"
            ],
            "image/png": "[encoded data removed]"
          },
          "metadata": {}
        }
      ]
    },
    {
      "cell_type": "code",
      "source": [
        "shap.image_plot(shap_images, X_images)"
      ],
      "metadata": {
        "id": "y4sTAK5uqt4b"
      },
      "execution_count": null,
      "outputs": []
    },
    {
      "cell_type": "code",
      "execution_count": 27,
      "metadata": {
        "colab": {
          "base_uri": "https://localhost:8080/",
          "height": 465
        },
        "id": "piWXC5aMdVkJ",
        "outputId": "d2200198-e503-4fc0-cd70-c19b606aed05"
      },
      "outputs": [
        {
          "output_type": "display_data",
          "data": {
            "text/plain": [
              "<Figure size 640x480 with 1 Axes>"
            ],
            "image/png": "[encoded data removed]"
          },
          "metadata": {}
        }
      ],
      "source": [
        "# Performans Analizi\n",
        "plt.figure()\n",
        "plt.plot(history.history['mae'], label='MAE (Training)')\n",
        "plt.plot(history.history['val_mae'], label='MAE (Validation)')\n",
        "plt.xlabel('Epochs')\n",
        "plt.ylabel('Mean Absolute Error')\n",
        "plt.legend()\n",
        "plt.show()\n"
      ]
    },
    {
      "cell_type": "code",
      "execution_count": null,
      "metadata": {
        "id": "3ogtOCtvdVkK"
      },
      "outputs": [],
      "source": [
        "# Verilerin Kaydedilmesi\n",
        "np.save('/mnt/data/X_images.npy', X_images)\n",
        "np.save('/mnt/data/X_numeric.npy', X_numeric)\n",
        "np.save('/mnt/data/X_categorical.npy', X_categorical)\n",
        "np.save('/mnt/data/Y.npy', Y)\n",
        "\n",
        "print(\"Ön işleme, modelleme ve analiz tamamlandı. Veriler kaydedildi.\")"
      ]
    }
  ],
  "metadata": {
    "kernelspec": {
      "display_name": "Python (myenv)",
      "language": "python",
      "name": "myenv"
    },
    "language_info": {
      "codemirror_mode": {
        "name": "ipython",
        "version": 3
      },
      "file_extension": ".py",
      "mimetype": "text/x-python",
      "name": "python",
      "nbconvert_exporter": "python",
      "pygments_lexer": "ipython3",
      "version": "3.11.11"
    },
    "colab": {
      "provenance": [],
      "gpuType": "T4"
    },
    "accelerator": "GPU"
  },
  "nbformat": 4,
  "nbformat_minor": 0
}